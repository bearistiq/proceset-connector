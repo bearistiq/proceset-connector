{
 "cells": [
  {
   "cell_type": "code",
   "execution_count": 1,
   "id": "ba143997",
   "metadata": {},
   "outputs": [],
   "source": [
    "from proceset import Proceset"
   ]
  },
  {
   "cell_type": "code",
   "execution_count": 2,
   "id": "55cf026e",
   "metadata": {},
   "outputs": [],
   "source": [
    "base_url = 'https://proceset.example/'\n",
    "api_key = 'c2a5b71aa2774dbc95ca37107ac2c6ac'"
   ]
  },
  {
   "cell_type": "code",
   "execution_count": 3,
   "id": "9d8b0ab1",
   "metadata": {},
   "outputs": [],
   "source": [
    "proceset = Proceset(base_url, api_key)"
   ]
  },
  {
   "cell_type": "code",
   "execution_count": 4,
   "id": "ddcf5218",
   "metadata": {},
   "outputs": [
    {
     "data": {
      "text/plain": [
       "'69CE1054806C301F12CF81E0424C089E1'"
      ]
     },
     "execution_count": 4,
     "metadata": {},
     "output_type": "execute_result"
    }
   ],
   "source": [
    "proceset.conn_guid"
   ]
  },
  {
   "cell_type": "code",
   "execution_count": 5,
   "id": "389b79a8",
   "metadata": {},
   "outputs": [
    {
     "data": {
      "text/plain": [
       "{'data': {'server': {'time': 1680637670243}}}"
      ]
     },
     "execution_count": 5,
     "metadata": {},
     "output_type": "execute_result"
    }
   ],
   "source": [
    "proceset.send_request('query{server{time}}')"
   ]
  },
  {
   "cell_type": "code",
   "execution_count": 6,
   "id": "77027ea1",
   "metadata": {},
   "outputs": [],
   "source": [
    "dataset = proceset.extract_data('select * from python_connector.example_1')"
   ]
  },
  {
   "cell_type": "code",
   "execution_count": 7,
   "id": "076d4034",
   "metadata": {
    "scrolled": true
   },
   "outputs": [
    {
     "data": {
      "text/html": [
       "<div>\n",
       "<style scoped>\n",
       "    .dataframe tbody tr th:only-of-type {\n",
       "        vertical-align: middle;\n",
       "    }\n",
       "\n",
       "    .dataframe tbody tr th {\n",
       "        vertical-align: top;\n",
       "    }\n",
       "\n",
       "    .dataframe thead th {\n",
       "        text-align: right;\n",
       "    }\n",
       "</style>\n",
       "<table border=\"1\" class=\"dataframe\">\n",
       "  <thead>\n",
       "    <tr style=\"text-align: right;\">\n",
       "      <th></th>\n",
       "      <th>string_value</th>\n",
       "      <th>int_value</th>\n",
       "      <th>float_value</th>\n",
       "    </tr>\n",
       "  </thead>\n",
       "  <tbody>\n",
       "    <tr>\n",
       "      <th>0</th>\n",
       "      <td>lorem ipsum</td>\n",
       "      <td>42</td>\n",
       "      <td>3.14</td>\n",
       "    </tr>\n",
       "    <tr>\n",
       "      <th>1</th>\n",
       "      <td>lorem ipsum</td>\n",
       "      <td>42</td>\n",
       "      <td>3.14</td>\n",
       "    </tr>\n",
       "    <tr>\n",
       "      <th>2</th>\n",
       "      <td>lorem ipsum</td>\n",
       "      <td>42</td>\n",
       "      <td>3.14</td>\n",
       "    </tr>\n",
       "    <tr>\n",
       "      <th>3</th>\n",
       "      <td>lorem ipsum</td>\n",
       "      <td>42</td>\n",
       "      <td>3.14</td>\n",
       "    </tr>\n",
       "    <tr>\n",
       "      <th>4</th>\n",
       "      <td>lorem ipsum</td>\n",
       "      <td>42</td>\n",
       "      <td>3.14</td>\n",
       "    </tr>\n",
       "  </tbody>\n",
       "</table>\n",
       "</div>"
      ],
      "text/plain": [
       "  string_value  int_value  float_value\n",
       "0  lorem ipsum         42         3.14\n",
       "1  lorem ipsum         42         3.14\n",
       "2  lorem ipsum         42         3.14\n",
       "3  lorem ipsum         42         3.14\n",
       "4  lorem ipsum         42         3.14"
      ]
     },
     "execution_count": 7,
     "metadata": {},
     "output_type": "execute_result"
    }
   ],
   "source": [
    "dataset.head()"
   ]
  },
  {
   "cell_type": "code",
   "execution_count": 8,
   "id": "c53f71d5",
   "metadata": {},
   "outputs": [
    {
     "data": {
      "text/plain": [
       "{'data': {'clickhouse': {'upload_data_table': True}}}"
      ]
     },
     "execution_count": 8,
     "metadata": {},
     "output_type": "execute_result"
    }
   ],
   "source": [
    "proceset.upload_data('python_connector', 'example_1', dataset)"
   ]
  },
  {
   "cell_type": "code",
   "execution_count": 9,
   "id": "89df19d4",
   "metadata": {},
   "outputs": [
    {
     "data": {
      "text/plain": [
       "{'data': {'automation': {'script': {'execute': {'id': 3204,\n",
       "     'is_running': True}}}}}"
      ]
     },
     "execution_count": 9,
     "metadata": {},
     "output_type": "execute_result"
    }
   ],
   "source": [
    "proceset.execute_script(3204)"
   ]
  }
 ],
 "metadata": {
  "kernelspec": {
   "display_name": "Python 3 (ipykernel)",
   "language": "python",
   "name": "python3"
  },
  "language_info": {
   "codemirror_mode": {
    "name": "ipython",
    "version": 3
   },
   "file_extension": ".py",
   "mimetype": "text/x-python",
   "name": "python",
   "nbconvert_exporter": "python",
   "pygments_lexer": "ipython3",
   "version": "3.10.9"
  }
 },
 "nbformat": 4,
 "nbformat_minor": 5
}
